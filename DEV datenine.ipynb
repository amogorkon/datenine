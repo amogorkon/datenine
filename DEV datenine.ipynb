{
 "cells": [
  {
   "cell_type": "code",
   "execution_count": 1,
   "metadata": {
    "execution": {
     "iopub.execute_input": "2021-02-02T14:44:44.369576Z",
     "iopub.status.busy": "2021-02-02T14:44:44.369163Z",
     "iopub.status.idle": "2021-02-02T14:44:44.380336Z",
     "shell.execute_reply": "2021-02-02T14:44:44.379029Z",
     "shell.execute_reply.started": "2021-02-02T14:44:44.369478Z"
    }
   },
   "outputs": [],
   "source": [
    "import datetime"
   ]
  },
  {
   "cell_type": "code",
   "execution_count": 18,
   "metadata": {
    "execution": {
     "iopub.execute_input": "2021-02-02T14:59:46.096614Z",
     "iopub.status.busy": "2021-02-02T14:59:46.096235Z",
     "iopub.status.idle": "2021-02-02T14:59:46.111868Z",
     "shell.execute_reply": "2021-02-02T14:59:46.109913Z",
     "shell.execute_reply.started": "2021-02-02T14:59:46.096572Z"
    }
   },
   "outputs": [
    {
     "data": {
      "text/plain": [
       "datetime.datetime(2021, 2, 2, 15, 59, 46, 97981)"
      ]
     },
     "execution_count": 18,
     "metadata": {},
     "output_type": "execute_result"
    }
   ],
   "source": [
    "datetime.datetime.now()"
   ]
  },
  {
   "cell_type": "code",
   "execution_count": 6,
   "metadata": {
    "execution": {
     "iopub.execute_input": "2021-02-02T14:47:22.081284Z",
     "iopub.status.busy": "2021-02-02T14:47:22.080942Z",
     "iopub.status.idle": "2021-02-02T14:47:22.091684Z",
     "shell.execute_reply": "2021-02-02T14:47:22.090581Z",
     "shell.execute_reply.started": "2021-02-02T14:47:22.081248Z"
    }
   },
   "outputs": [
    {
     "data": {
      "text/plain": [
       "datetime.date(2021, 2, 2)"
      ]
     },
     "execution_count": 6,
     "metadata": {},
     "output_type": "execute_result"
    }
   ],
   "source": [
    "datetime.date.today()"
   ]
  },
  {
   "cell_type": "code",
   "execution_count": 23,
   "metadata": {
    "execution": {
     "iopub.execute_input": "2021-02-02T15:00:42.068208Z",
     "iopub.status.busy": "2021-02-02T15:00:42.067609Z",
     "iopub.status.idle": "2021-02-02T15:00:42.080580Z",
     "shell.execute_reply": "2021-02-02T15:00:42.079504Z",
     "shell.execute_reply.started": "2021-02-02T15:00:42.068165Z"
    }
   },
   "outputs": [],
   "source": [
    "class Date:\n",
    "    def __init__(self, year:int=None, month:int=None, day:int=None, hour:int=None, minute:int=None, second:int=None):\n",
    "        self.year = year\n",
    "        self.month = month\n",
    "        self.day = day\n",
    "        self.hour = hour\n",
    "        self.minute=minute\n",
    "        self.second = second\n",
    "    \n",
    "    def from_datetime(self, dt):\n",
    "        self.year = dt.year\n",
    "        self.month = dt.month\n",
    "        self.day = dt.day\n",
    "        self.hour = dt.hour\n",
    "        self.minute = dt.minute\n",
    "        self.second = dt.second\n",
    "        \n",
    "    def __repr__(self):\n",
    "        return f\"Date({self.year, self.month, self.day, self.hour, self.minute, self.second})\""
   ]
  },
  {
   "cell_type": "code",
   "execution_count": 24,
   "metadata": {
    "execution": {
     "iopub.execute_input": "2021-02-02T15:00:44.262149Z",
     "iopub.status.busy": "2021-02-02T15:00:44.261419Z",
     "iopub.status.idle": "2021-02-02T15:00:44.267000Z",
     "shell.execute_reply": "2021-02-02T15:00:44.266051Z",
     "shell.execute_reply.started": "2021-02-02T15:00:44.262102Z"
    }
   },
   "outputs": [],
   "source": [
    "d = Date().from_datetime(datetime.datetime.now())"
   ]
  },
  {
   "cell_type": "code",
   "execution_count": 26,
   "metadata": {
    "execution": {
     "iopub.execute_input": "2021-02-02T15:00:48.789128Z",
     "iopub.status.busy": "2021-02-02T15:00:48.788221Z",
     "iopub.status.idle": "2021-02-02T15:00:48.802815Z",
     "shell.execute_reply": "2021-02-02T15:00:48.801439Z",
     "shell.execute_reply.started": "2021-02-02T15:00:48.789081Z"
    }
   },
   "outputs": [
    {
     "data": {
      "text/plain": [
       "'None'"
      ]
     },
     "execution_count": 26,
     "metadata": {},
     "output_type": "execute_result"
    }
   ],
   "source": [
    "repr(d)"
   ]
  }
 ],
 "metadata": {
  "kernelspec": {
   "display_name": "Python 3",
   "language": "python",
   "name": "python3"
  },
  "language_info": {
   "codemirror_mode": {
    "name": "ipython",
    "version": 3
   },
   "file_extension": ".py",
   "mimetype": "text/x-python",
   "name": "python",
   "nbconvert_exporter": "python",
   "pygments_lexer": "ipython3",
   "version": "3.8.5"
  }
 },
 "nbformat": 4,
 "nbformat_minor": 4
}
